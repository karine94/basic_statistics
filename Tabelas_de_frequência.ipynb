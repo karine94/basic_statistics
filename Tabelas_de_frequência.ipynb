{
  "nbformat": 4,
  "nbformat_minor": 0,
  "metadata": {
    "colab": {
      "provenance": [],
      "collapsed_sections": []
    },
    "kernelspec": {
      "name": "python3",
      "display_name": "Python 3"
    },
    "language_info": {
      "name": "python"
    }
  },
  "cells": [
    {
      "cell_type": "markdown",
      "source": [
        "**O arquivo csv contém dados sobre o país de origem de 300 pessoas que estavam em uma palestra.**\n",
        "\n",
        "---\n",
        "\n"
      ],
      "metadata": {
        "id": "O9nMhGntwBDI"
      }
    },
    {
      "cell_type": "code",
      "execution_count": null,
      "metadata": {
        "id": "RJQcpew0gQnb"
      },
      "outputs": [],
      "source": [
        "import pandas as pd"
      ]
    },
    {
      "cell_type": "code",
      "source": [
        "from google.colab import drive\n",
        "drive.mount('/content/drive')"
      ],
      "metadata": {
        "colab": {
          "base_uri": "https://localhost:8080/"
        },
        "id": "n0dL19VViX4X",
        "outputId": "3adbe609-0a65-433c-9b34-530acd693421"
      },
      "execution_count": null,
      "outputs": [
        {
          "output_type": "stream",
          "name": "stdout",
          "text": [
            "Drive already mounted at /content/drive; to attempt to forcibly remount, call drive.mount(\"/content/drive\", force_remount=True).\n"
          ]
        }
      ]
    },
    {
      "cell_type": "code",
      "source": [
        "paises = pd.read_csv(\"/pais de origem.csv\")\n",
        "paises.head()"
      ],
      "metadata": {
        "colab": {
          "base_uri": "https://localhost:8080/",
          "height": 206
        },
        "id": "IWjEvvgHhlN_",
        "outputId": "fe7df06a-a028-4061-e975-30ba1d203f72"
      },
      "execution_count": null,
      "outputs": [
        {
          "output_type": "execute_result",
          "data": {
            "text/plain": [
              "  País de Origem\n",
              "0         Brasil\n",
              "1     Inglaterra\n",
              "2          Japão\n",
              "3            EUA\n",
              "4         Brasil"
            ],
            "text/html": [
              "\n",
              "  <div id=\"df-ae435533-7458-47ca-9be9-cd1b1947a167\">\n",
              "    <div class=\"colab-df-container\">\n",
              "      <div>\n",
              "<style scoped>\n",
              "    .dataframe tbody tr th:only-of-type {\n",
              "        vertical-align: middle;\n",
              "    }\n",
              "\n",
              "    .dataframe tbody tr th {\n",
              "        vertical-align: top;\n",
              "    }\n",
              "\n",
              "    .dataframe thead th {\n",
              "        text-align: right;\n",
              "    }\n",
              "</style>\n",
              "<table border=\"1\" class=\"dataframe\">\n",
              "  <thead>\n",
              "    <tr style=\"text-align: right;\">\n",
              "      <th></th>\n",
              "      <th>País de Origem</th>\n",
              "    </tr>\n",
              "  </thead>\n",
              "  <tbody>\n",
              "    <tr>\n",
              "      <th>0</th>\n",
              "      <td>Brasil</td>\n",
              "    </tr>\n",
              "    <tr>\n",
              "      <th>1</th>\n",
              "      <td>Inglaterra</td>\n",
              "    </tr>\n",
              "    <tr>\n",
              "      <th>2</th>\n",
              "      <td>Japão</td>\n",
              "    </tr>\n",
              "    <tr>\n",
              "      <th>3</th>\n",
              "      <td>EUA</td>\n",
              "    </tr>\n",
              "    <tr>\n",
              "      <th>4</th>\n",
              "      <td>Brasil</td>\n",
              "    </tr>\n",
              "  </tbody>\n",
              "</table>\n",
              "</div>\n",
              "      <button class=\"colab-df-convert\" onclick=\"convertToInteractive('df-ae435533-7458-47ca-9be9-cd1b1947a167')\"\n",
              "              title=\"Convert this dataframe to an interactive table.\"\n",
              "              style=\"display:none;\">\n",
              "        \n",
              "  <svg xmlns=\"http://www.w3.org/2000/svg\" height=\"24px\"viewBox=\"0 0 24 24\"\n",
              "       width=\"24px\">\n",
              "    <path d=\"M0 0h24v24H0V0z\" fill=\"none\"/>\n",
              "    <path d=\"M18.56 5.44l.94 2.06.94-2.06 2.06-.94-2.06-.94-.94-2.06-.94 2.06-2.06.94zm-11 1L8.5 8.5l.94-2.06 2.06-.94-2.06-.94L8.5 2.5l-.94 2.06-2.06.94zm10 10l.94 2.06.94-2.06 2.06-.94-2.06-.94-.94-2.06-.94 2.06-2.06.94z\"/><path d=\"M17.41 7.96l-1.37-1.37c-.4-.4-.92-.59-1.43-.59-.52 0-1.04.2-1.43.59L10.3 9.45l-7.72 7.72c-.78.78-.78 2.05 0 2.83L4 21.41c.39.39.9.59 1.41.59.51 0 1.02-.2 1.41-.59l7.78-7.78 2.81-2.81c.8-.78.8-2.07 0-2.86zM5.41 20L4 18.59l7.72-7.72 1.47 1.35L5.41 20z\"/>\n",
              "  </svg>\n",
              "      </button>\n",
              "      \n",
              "  <style>\n",
              "    .colab-df-container {\n",
              "      display:flex;\n",
              "      flex-wrap:wrap;\n",
              "      gap: 12px;\n",
              "    }\n",
              "\n",
              "    .colab-df-convert {\n",
              "      background-color: #E8F0FE;\n",
              "      border: none;\n",
              "      border-radius: 50%;\n",
              "      cursor: pointer;\n",
              "      display: none;\n",
              "      fill: #1967D2;\n",
              "      height: 32px;\n",
              "      padding: 0 0 0 0;\n",
              "      width: 32px;\n",
              "    }\n",
              "\n",
              "    .colab-df-convert:hover {\n",
              "      background-color: #E2EBFA;\n",
              "      box-shadow: 0px 1px 2px rgba(60, 64, 67, 0.3), 0px 1px 3px 1px rgba(60, 64, 67, 0.15);\n",
              "      fill: #174EA6;\n",
              "    }\n",
              "\n",
              "    [theme=dark] .colab-df-convert {\n",
              "      background-color: #3B4455;\n",
              "      fill: #D2E3FC;\n",
              "    }\n",
              "\n",
              "    [theme=dark] .colab-df-convert:hover {\n",
              "      background-color: #434B5C;\n",
              "      box-shadow: 0px 1px 3px 1px rgba(0, 0, 0, 0.15);\n",
              "      filter: drop-shadow(0px 1px 2px rgba(0, 0, 0, 0.3));\n",
              "      fill: #FFFFFF;\n",
              "    }\n",
              "  </style>\n",
              "\n",
              "      <script>\n",
              "        const buttonEl =\n",
              "          document.querySelector('#df-ae435533-7458-47ca-9be9-cd1b1947a167 button.colab-df-convert');\n",
              "        buttonEl.style.display =\n",
              "          google.colab.kernel.accessAllowed ? 'block' : 'none';\n",
              "\n",
              "        async function convertToInteractive(key) {\n",
              "          const element = document.querySelector('#df-ae435533-7458-47ca-9be9-cd1b1947a167');\n",
              "          const dataTable =\n",
              "            await google.colab.kernel.invokeFunction('convertToInteractive',\n",
              "                                                     [key], {});\n",
              "          if (!dataTable) return;\n",
              "\n",
              "          const docLinkHtml = 'Like what you see? Visit the ' +\n",
              "            '<a target=\"_blank\" href=https://colab.research.google.com/notebooks/data_table.ipynb>data table notebook</a>'\n",
              "            + ' to learn more about interactive tables.';\n",
              "          element.innerHTML = '';\n",
              "          dataTable['output_type'] = 'display_data';\n",
              "          await google.colab.output.renderOutput(dataTable, element);\n",
              "          const docLink = document.createElement('div');\n",
              "          docLink.innerHTML = docLinkHtml;\n",
              "          element.appendChild(docLink);\n",
              "        }\n",
              "      </script>\n",
              "    </div>\n",
              "  </div>\n",
              "  "
            ]
          },
          "metadata": {},
          "execution_count": 30
        }
      ]
    },
    {
      "cell_type": "code",
      "source": [
        "frequencia_absoluta = paises[\"País de Origem\"].value_counts(sort=True)\n",
        "print(frequencia_absoluta)"
      ],
      "metadata": {
        "colab": {
          "base_uri": "https://localhost:8080/"
        },
        "id": "6PKNtx8gipD6",
        "outputId": "0d4ead9e-b3ed-4ea6-9b7f-55642d4a3659"
      },
      "execution_count": null,
      "outputs": [
        {
          "output_type": "stream",
          "name": "stdout",
          "text": [
            "Brasil           59\n",
            "EUA              35\n",
            "Índia            19\n",
            "China            18\n",
            "Uruguai          17\n",
            "Japão            16\n",
            "Austrália        15\n",
            "África do Sul    14\n",
            "Rússia           14\n",
            "Inglaterra       12\n",
            "Suiça            11\n",
            "Argentina        10\n",
            "Alemanha         10\n",
            "França           10\n",
            "Itália            9\n",
            "Canadá            9\n",
            "Egito             8\n",
            "México            7\n",
            "Chile             7\n",
            "Name: País de Origem, dtype: int64\n"
          ]
        }
      ]
    },
    {
      "cell_type": "code",
      "source": [
        "frequencia_relativa = (frequencia_absoluta / 300)*100\n",
        "print(frequencia_relativa)"
      ],
      "metadata": {
        "colab": {
          "base_uri": "https://localhost:8080/"
        },
        "id": "MxfqszAhlrPa",
        "outputId": "748acdce-c4d1-4a58-cad0-0080eb563cf7"
      },
      "execution_count": null,
      "outputs": [
        {
          "output_type": "stream",
          "name": "stdout",
          "text": [
            "Brasil           19.666667\n",
            "EUA              11.666667\n",
            "Índia             6.333333\n",
            "China             6.000000\n",
            "Uruguai           5.666667\n",
            "Japão             5.333333\n",
            "Austrália         5.000000\n",
            "África do Sul     4.666667\n",
            "Rússia            4.666667\n",
            "Inglaterra        4.000000\n",
            "Suiça             3.666667\n",
            "Argentina         3.333333\n",
            "Alemanha          3.333333\n",
            "França            3.333333\n",
            "Itália            3.000000\n",
            "Canadá            3.000000\n",
            "Egito             2.666667\n",
            "México            2.333333\n",
            "Chile             2.333333\n",
            "Name: País de Origem, dtype: float64\n"
          ]
        }
      ]
    },
    {
      "cell_type": "code",
      "source": [
        "frequencia_acumulada = frequencia_absoluta.cumsum()\n",
        "print(frequencia_acumulada)"
      ],
      "metadata": {
        "colab": {
          "base_uri": "https://localhost:8080/"
        },
        "id": "KyvpfTiMn0GW",
        "outputId": "72f37b2f-d1f6-40df-89ec-ceab0c49e345"
      },
      "execution_count": null,
      "outputs": [
        {
          "output_type": "stream",
          "name": "stdout",
          "text": [
            "Brasil            59\n",
            "EUA               94\n",
            "Índia            113\n",
            "China            131\n",
            "Uruguai          148\n",
            "Japão            164\n",
            "Austrália        179\n",
            "África do Sul    193\n",
            "Rússia           207\n",
            "Inglaterra       219\n",
            "Suiça            230\n",
            "Argentina        240\n",
            "Alemanha         250\n",
            "França           260\n",
            "Itália           269\n",
            "Canadá           278\n",
            "Egito            286\n",
            "México           293\n",
            "Chile            300\n",
            "Name: País de Origem, dtype: int64\n"
          ]
        }
      ]
    },
    {
      "cell_type": "code",
      "source": [
        "frequencia_relativa_acumulada = frequencia_relativa.cumsum()\n",
        "print(frequencia_relativa_acumulada)"
      ],
      "metadata": {
        "colab": {
          "base_uri": "https://localhost:8080/"
        },
        "id": "vmWZasvJplAE",
        "outputId": "186d7522-bd66-4a97-8bbd-da09802ff043"
      },
      "execution_count": null,
      "outputs": [
        {
          "output_type": "stream",
          "name": "stdout",
          "text": [
            "Brasil            19.666667\n",
            "EUA               31.333333\n",
            "Índia             37.666667\n",
            "China             43.666667\n",
            "Uruguai           49.333333\n",
            "Japão             54.666667\n",
            "Austrália         59.666667\n",
            "África do Sul     64.333333\n",
            "Rússia            69.000000\n",
            "Inglaterra        73.000000\n",
            "Suiça             76.666667\n",
            "Argentina         80.000000\n",
            "Alemanha          83.333333\n",
            "França            86.666667\n",
            "Itália            89.666667\n",
            "Canadá            92.666667\n",
            "Egito             95.333333\n",
            "México            97.666667\n",
            "Chile            100.000000\n",
            "Name: País de Origem, dtype: float64\n"
          ]
        }
      ]
    },
    {
      "cell_type": "code",
      "source": [],
      "metadata": {
        "id": "2OLKRBgip65R"
      },
      "execution_count": null,
      "outputs": []
    }
  ]
}